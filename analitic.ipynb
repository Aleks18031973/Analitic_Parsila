

# In[ ]:


my_dog = Dog(breed='lab',name='ggg',spots=False)


# In[ ]:


my_dog.breed


# In[ ]:


my_dog.name


# In[ ]:


my_dog.spots


# In[ ]:


type(my_dog)


# In[ ]:





# In[ ]:


class Dog():
    species = 'mammal' #атрибут класса
    #pass
    def __init__(self,breed,name,spots):
        self.breed = breed
        self.name = name
        self.spots = spots


# In[ ]:


my_dog 


# In[ ]:


my_dog = Dog(breed='lab',name='ggg')


